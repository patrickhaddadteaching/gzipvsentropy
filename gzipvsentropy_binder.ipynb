{
  "nbformat": 4,
  "nbformat_minor": 0,
  "metadata": {
    "colab": {
      "name": "gzipvsentropy_binder.ipynb",
      "provenance": [],
      "collapsed_sections": [],
      "authorship_tag": "ABX9TyOCLEOy76k2CAr/9c1P9/s9"
    },
    "kernelspec": {
      "name": "python3",
      "display_name": "Python 3"
    },
    "language_info": {
      "name": "python"
    },
    "widgets": {
      "application/vnd.jupyter.widget-state+json": {
        "48ae6691b72f49b2900558af609428b7": {
          "model_module": "@jupyter-widgets/controls",
          "model_name": "VBoxModel",
          "state": {
            "_view_name": "VBoxView",
            "_dom_classes": [
              "widget-interact"
            ],
            "_model_name": "VBoxModel",
            "_view_module": "@jupyter-widgets/controls",
            "_model_module_version": "1.5.0",
            "_view_count": null,
            "_view_module_version": "1.5.0",
            "box_style": "",
            "layout": "IPY_MODEL_30cfdda2623d4f7f80a887da471e6c24",
            "_model_module": "@jupyter-widgets/controls",
            "children": [
              "IPY_MODEL_2c566eb544de41e8b0a483515ca4d0ca",
              "IPY_MODEL_dff5460612324c46b0f735132f81d813",
              "IPY_MODEL_084b6d7f4aa64930b47de50920c77fd6"
            ]
          }
        },
        "30cfdda2623d4f7f80a887da471e6c24": {
          "model_module": "@jupyter-widgets/base",
          "model_name": "LayoutModel",
          "state": {
            "_view_name": "LayoutView",
            "grid_template_rows": null,
            "right": null,
            "justify_content": null,
            "_view_module": "@jupyter-widgets/base",
            "overflow": null,
            "_model_module_version": "1.2.0",
            "_view_count": null,
            "flex_flow": null,
            "width": null,
            "min_width": null,
            "border": null,
            "align_items": null,
            "bottom": null,
            "_model_module": "@jupyter-widgets/base",
            "top": null,
            "grid_column": null,
            "overflow_y": null,
            "overflow_x": null,
            "grid_auto_flow": null,
            "grid_area": null,
            "grid_template_columns": null,
            "flex": null,
            "_model_name": "LayoutModel",
            "justify_items": null,
            "grid_row": null,
            "max_height": null,
            "align_content": null,
            "visibility": null,
            "align_self": null,
            "height": null,
            "min_height": null,
            "padding": null,
            "grid_auto_rows": null,
            "grid_gap": null,
            "max_width": null,
            "order": null,
            "_view_module_version": "1.2.0",
            "grid_template_areas": null,
            "object_position": null,
            "object_fit": null,
            "grid_auto_columns": null,
            "margin": null,
            "display": null,
            "left": null
          }
        },
        "2c566eb544de41e8b0a483515ca4d0ca": {
          "model_module": "@jupyter-widgets/controls",
          "model_name": "FloatSliderModel",
          "state": {
            "_view_name": "FloatSliderView",
            "style": "IPY_MODEL_b34e42f10a9c458181f93d2dedfef0c0",
            "_dom_classes": [],
            "description": "Probabilite de generer un 1 :",
            "step": 0.01,
            "_model_name": "FloatSliderModel",
            "orientation": "horizontal",
            "max": 1,
            "_view_module": "@jupyter-widgets/controls",
            "_model_module_version": "1.5.0",
            "value": 0.56,
            "_view_count": null,
            "disabled": false,
            "_view_module_version": "1.5.0",
            "min": 0,
            "continuous_update": true,
            "readout_format": ".2f",
            "description_tooltip": null,
            "readout": true,
            "_model_module": "@jupyter-widgets/controls",
            "layout": "IPY_MODEL_e4a5733dc9dc4602adcffe0ad9b32311"
          }
        },
        "dff5460612324c46b0f735132f81d813": {
          "model_module": "@jupyter-widgets/controls",
          "model_name": "IntSliderModel",
          "state": {
            "_view_name": "IntSliderView",
            "style": "IPY_MODEL_13a0098e2a6e49f2aa35a7001007b304",
            "_dom_classes": [],
            "description": "Nombre de bytes a generer:",
            "step": 8,
            "_model_name": "IntSliderModel",
            "orientation": "horizontal",
            "max": 16384,
            "_view_module": "@jupyter-widgets/controls",
            "_model_module_version": "1.5.0",
            "value": 64,
            "_view_count": null,
            "disabled": false,
            "_view_module_version": "1.5.0",
            "min": 64,
            "continuous_update": true,
            "readout_format": "d",
            "description_tooltip": null,
            "readout": true,
            "_model_module": "@jupyter-widgets/controls",
            "layout": "IPY_MODEL_a8e06dab59744043ab1a23e28ad551c3"
          }
        },
        "084b6d7f4aa64930b47de50920c77fd6": {
          "model_module": "@jupyter-widgets/output",
          "model_name": "OutputModel",
          "state": {
            "_view_name": "OutputView",
            "msg_id": "",
            "_dom_classes": [],
            "_model_name": "OutputModel",
            "outputs": [
              {
                "output_type": "stream",
                "metadata": {
                  "tags": []
                },
                "text": "\nFICHIER NON COMPRESSE : 64 BYTES\n000:7546798cfc6f6dbe85549a4e7af536a57bafcfcc6f8636b6ed0ffd2c7e1217446e8fbe7facbfafb0d3493145284dd2f2b8fbea3af27ff43baf2a36ad74c9a47d\n\nFICHIER COMPRESSE : 87 BYTES\n000:1f8b08005ed78b6002ff014000bfff7546798cfc6f6dbe85549a4e7af536a57bafcfcc6f8636b6ed0ffd2c7e1217446e8fbe7facbfafb0d3493145284dd2f2b8fbea3af27ff43baf2a36ad74c9a47d874b4bb840000000\n",
                "stream": "stdout"
              }
            ],
            "_view_module": "@jupyter-widgets/output",
            "_model_module_version": "1.0.0",
            "_view_count": null,
            "_view_module_version": "1.0.0",
            "layout": "IPY_MODEL_b54628d884e142628f5b2c2cbda4571c",
            "_model_module": "@jupyter-widgets/output"
          }
        },
        "b34e42f10a9c458181f93d2dedfef0c0": {
          "model_module": "@jupyter-widgets/controls",
          "model_name": "SliderStyleModel",
          "state": {
            "_view_name": "StyleView",
            "handle_color": null,
            "_model_name": "SliderStyleModel",
            "description_width": "50%",
            "_view_module": "@jupyter-widgets/base",
            "_model_module_version": "1.5.0",
            "_view_count": null,
            "_view_module_version": "1.2.0",
            "_model_module": "@jupyter-widgets/controls"
          }
        },
        "e4a5733dc9dc4602adcffe0ad9b32311": {
          "model_module": "@jupyter-widgets/base",
          "model_name": "LayoutModel",
          "state": {
            "_view_name": "LayoutView",
            "grid_template_rows": null,
            "right": null,
            "justify_content": null,
            "_view_module": "@jupyter-widgets/base",
            "overflow": null,
            "_model_module_version": "1.2.0",
            "_view_count": null,
            "flex_flow": null,
            "width": "50%",
            "min_width": null,
            "border": null,
            "align_items": null,
            "bottom": null,
            "_model_module": "@jupyter-widgets/base",
            "top": null,
            "grid_column": null,
            "overflow_y": null,
            "overflow_x": null,
            "grid_auto_flow": null,
            "grid_area": null,
            "grid_template_columns": null,
            "flex": null,
            "_model_name": "LayoutModel",
            "justify_items": null,
            "grid_row": null,
            "max_height": null,
            "align_content": null,
            "visibility": null,
            "align_self": null,
            "height": null,
            "min_height": null,
            "padding": null,
            "grid_auto_rows": null,
            "grid_gap": null,
            "max_width": null,
            "order": null,
            "_view_module_version": "1.2.0",
            "grid_template_areas": null,
            "object_position": null,
            "object_fit": null,
            "grid_auto_columns": null,
            "margin": null,
            "display": null,
            "left": null
          }
        },
        "13a0098e2a6e49f2aa35a7001007b304": {
          "model_module": "@jupyter-widgets/controls",
          "model_name": "SliderStyleModel",
          "state": {
            "_view_name": "StyleView",
            "handle_color": null,
            "_model_name": "SliderStyleModel",
            "description_width": "50%",
            "_view_module": "@jupyter-widgets/base",
            "_model_module_version": "1.5.0",
            "_view_count": null,
            "_view_module_version": "1.2.0",
            "_model_module": "@jupyter-widgets/controls"
          }
        },
        "a8e06dab59744043ab1a23e28ad551c3": {
          "model_module": "@jupyter-widgets/base",
          "model_name": "LayoutModel",
          "state": {
            "_view_name": "LayoutView",
            "grid_template_rows": null,
            "right": null,
            "justify_content": null,
            "_view_module": "@jupyter-widgets/base",
            "overflow": null,
            "_model_module_version": "1.2.0",
            "_view_count": null,
            "flex_flow": null,
            "width": "50%",
            "min_width": null,
            "border": null,
            "align_items": null,
            "bottom": null,
            "_model_module": "@jupyter-widgets/base",
            "top": null,
            "grid_column": null,
            "overflow_y": null,
            "overflow_x": null,
            "grid_auto_flow": null,
            "grid_area": null,
            "grid_template_columns": null,
            "flex": null,
            "_model_name": "LayoutModel",
            "justify_items": null,
            "grid_row": null,
            "max_height": null,
            "align_content": null,
            "visibility": null,
            "align_self": null,
            "height": null,
            "min_height": null,
            "padding": null,
            "grid_auto_rows": null,
            "grid_gap": null,
            "max_width": null,
            "order": null,
            "_view_module_version": "1.2.0",
            "grid_template_areas": null,
            "object_position": null,
            "object_fit": null,
            "grid_auto_columns": null,
            "margin": null,
            "display": null,
            "left": null
          }
        },
        "b54628d884e142628f5b2c2cbda4571c": {
          "model_module": "@jupyter-widgets/base",
          "model_name": "LayoutModel",
          "state": {
            "_view_name": "LayoutView",
            "grid_template_rows": null,
            "right": null,
            "justify_content": null,
            "_view_module": "@jupyter-widgets/base",
            "overflow": null,
            "_model_module_version": "1.2.0",
            "_view_count": null,
            "flex_flow": null,
            "width": null,
            "min_width": null,
            "border": null,
            "align_items": null,
            "bottom": null,
            "_model_module": "@jupyter-widgets/base",
            "top": null,
            "grid_column": null,
            "overflow_y": null,
            "overflow_x": null,
            "grid_auto_flow": null,
            "grid_area": null,
            "grid_template_columns": null,
            "flex": null,
            "_model_name": "LayoutModel",
            "justify_items": null,
            "grid_row": null,
            "max_height": null,
            "align_content": null,
            "visibility": null,
            "align_self": null,
            "height": null,
            "min_height": null,
            "padding": null,
            "grid_auto_rows": null,
            "grid_gap": null,
            "max_width": null,
            "order": null,
            "_view_module_version": "1.2.0",
            "grid_template_areas": null,
            "object_position": null,
            "object_fit": null,
            "grid_auto_columns": null,
            "margin": null,
            "display": null,
            "left": null
          }
        },
        "02087fa03a57448eb34bb526270fd012": {
          "model_module": "@jupyter-widgets/controls",
          "model_name": "VBoxModel",
          "state": {
            "_view_name": "VBoxView",
            "_dom_classes": [],
            "_model_name": "VBoxModel",
            "_view_module": "@jupyter-widgets/controls",
            "_model_module_version": "1.5.0",
            "_view_count": null,
            "_view_module_version": "1.5.0",
            "box_style": "",
            "layout": "IPY_MODEL_03b56142c66f473fa1d8e9e61a5e8d76",
            "_model_module": "@jupyter-widgets/controls",
            "children": [
              "IPY_MODEL_2c566eb544de41e8b0a483515ca4d0ca",
              "IPY_MODEL_dff5460612324c46b0f735132f81d813",
              "IPY_MODEL_e9607b881cbd4075bc5b172e9d55ebd4",
              "IPY_MODEL_084b6d7f4aa64930b47de50920c77fd6"
            ]
          }
        },
        "03b56142c66f473fa1d8e9e61a5e8d76": {
          "model_module": "@jupyter-widgets/base",
          "model_name": "LayoutModel",
          "state": {
            "_view_name": "LayoutView",
            "grid_template_rows": null,
            "right": null,
            "justify_content": null,
            "_view_module": "@jupyter-widgets/base",
            "overflow": null,
            "_model_module_version": "1.2.0",
            "_view_count": null,
            "flex_flow": null,
            "width": null,
            "min_width": null,
            "border": null,
            "align_items": null,
            "bottom": null,
            "_model_module": "@jupyter-widgets/base",
            "top": null,
            "grid_column": null,
            "overflow_y": null,
            "overflow_x": null,
            "grid_auto_flow": null,
            "grid_area": null,
            "grid_template_columns": null,
            "flex": null,
            "_model_name": "LayoutModel",
            "justify_items": null,
            "grid_row": null,
            "max_height": null,
            "align_content": null,
            "visibility": null,
            "align_self": null,
            "height": null,
            "min_height": null,
            "padding": null,
            "grid_auto_rows": null,
            "grid_gap": null,
            "max_width": null,
            "order": null,
            "_view_module_version": "1.2.0",
            "grid_template_areas": null,
            "object_position": null,
            "object_fit": null,
            "grid_auto_columns": null,
            "margin": null,
            "display": null,
            "left": null
          }
        },
        "e9607b881cbd4075bc5b172e9d55ebd4": {
          "model_module": "@jupyter-widgets/controls",
          "model_name": "TextModel",
          "state": {
            "_view_name": "TextView",
            "style": "IPY_MODEL_9fb0811cac8a4123beae6ad9a8e37bdf",
            "_dom_classes": [],
            "description": "",
            "_model_name": "TextModel",
            "placeholder": "​",
            "_view_module": "@jupyter-widgets/controls",
            "_model_module_version": "1.5.0",
            "value": "p=0.56 correspond a une entropie de 0.99",
            "_view_count": null,
            "disabled": true,
            "_view_module_version": "1.5.0",
            "continuous_update": true,
            "description_tooltip": null,
            "_model_module": "@jupyter-widgets/controls",
            "layout": "IPY_MODEL_782c60f8a1dd467fb3ee954db3d9d41b"
          }
        },
        "9fb0811cac8a4123beae6ad9a8e37bdf": {
          "model_module": "@jupyter-widgets/controls",
          "model_name": "DescriptionStyleModel",
          "state": {
            "_view_name": "StyleView",
            "_model_name": "DescriptionStyleModel",
            "description_width": "",
            "_view_module": "@jupyter-widgets/base",
            "_model_module_version": "1.5.0",
            "_view_count": null,
            "_view_module_version": "1.2.0",
            "_model_module": "@jupyter-widgets/controls"
          }
        },
        "782c60f8a1dd467fb3ee954db3d9d41b": {
          "model_module": "@jupyter-widgets/base",
          "model_name": "LayoutModel",
          "state": {
            "_view_name": "LayoutView",
            "grid_template_rows": null,
            "right": null,
            "justify_content": null,
            "_view_module": "@jupyter-widgets/base",
            "overflow": null,
            "_model_module_version": "1.2.0",
            "_view_count": null,
            "flex_flow": null,
            "width": "300px",
            "min_width": null,
            "border": null,
            "align_items": null,
            "bottom": null,
            "_model_module": "@jupyter-widgets/base",
            "top": null,
            "grid_column": null,
            "overflow_y": null,
            "overflow_x": null,
            "grid_auto_flow": null,
            "grid_area": null,
            "grid_template_columns": null,
            "flex": null,
            "_model_name": "LayoutModel",
            "justify_items": null,
            "grid_row": null,
            "max_height": null,
            "align_content": null,
            "visibility": null,
            "align_self": null,
            "height": null,
            "min_height": null,
            "padding": null,
            "grid_auto_rows": null,
            "grid_gap": null,
            "max_width": null,
            "order": null,
            "_view_module_version": "1.2.0",
            "grid_template_areas": null,
            "object_position": null,
            "object_fit": null,
            "grid_auto_columns": null,
            "margin": null,
            "display": null,
            "left": null
          }
        }
      }
    }
  },
  "cells": [
    {
      "cell_type": "code",
      "metadata": {
        "id": "T0swrOzJgeWZ"
      },
      "source": [
        "import numpy as np\n",
        "from IPython.display import display\n",
        "from ipywidgets import interact, interact_manual, widgets,fixed\n",
        "import gzip"
      ],
      "execution_count": 1,
      "outputs": []
    },
    {
      "cell_type": "code",
      "metadata": {
        "id": "y6uMYEApgkrr"
      },
      "source": [
        "screen_entropy=widgets.Text(value=\"\",description='', disabled=True,layout=widgets.Layout(width='300px'),font_size=12)\n",
        "def generate_biased_rnd_vector_byte(p_in,n_in):\n",
        "    v_byte_to_ret=np.zeros((n_in,),dtype=np.uint8)\n",
        "    v_raw_rnd_bin=np.array(np.random.rand(8*n_in)<p_in,dtype=np.uint8)\n",
        "    for i in range(8):\n",
        "        v_byte_to_ret+=(v_raw_rnd_bin[i::8]<<i)\n",
        "    return v_byte_to_ret\n",
        "def comp_gzip(v_in):\n",
        "    v_out = np.frombuffer(gzip.compress(v_in),dtype=np.uint8)\n",
        "    return v_out\n",
        "def afficher(v_in,nb_bytes_per_lines=128):\n",
        "    v_in_len=v_in.shape[0]\n",
        "    nb_lines=int(v_in_len/nb_bytes_per_lines)+1\n",
        "   \n",
        "    for j in range(nb_lines):\n",
        "        s_line='%.3d:'%(j)\n",
        "        for i in range(nb_bytes_per_lines):\n",
        "            k=j*nb_bytes_per_lines+i\n",
        "            if k<v_in_len:\n",
        "                s_line='%s%.2x'%(s_line,v_in[k])\n",
        "        print(s_line)\n",
        "\n",
        "def gzipVsentropy(p=0.5,nb_bytes=1024):\n",
        "   \n",
        "    if p*(1-p)==0:\n",
        "        entropy=0\n",
        "    else:\n",
        "        entropy=(np.log2(p)*(p)+np.log2(1-p)*(1-p))/-1\n",
        "    screen_entropy.value='p=%.2f correspond a une entropie de %.2f'%(p,entropy)\n",
        "   \n",
        "    v_in=generate_biased_rnd_vector_byte(p,nb_bytes)\n",
        "    v_comp=comp_gzip(v_in)\n",
        "    print('\\nFICHIER NON COMPRESSE : %d BYTES'%(v_in.shape[0]))\n",
        "    afficher(v_in,104)\n",
        "    print('\\nFICHIER COMPRESSE : %d BYTES'%(v_comp.shape[0]))\n",
        "    afficher(v_comp,104)"
      ],
      "execution_count": 7,
      "outputs": []
    },
    {
      "cell_type": "code",
      "metadata": {
        "colab": {
          "base_uri": "https://localhost:8080/",
          "height": 215,
          "referenced_widgets": [
            "48ae6691b72f49b2900558af609428b7",
            "30cfdda2623d4f7f80a887da471e6c24",
            "2c566eb544de41e8b0a483515ca4d0ca",
            "dff5460612324c46b0f735132f81d813",
            "084b6d7f4aa64930b47de50920c77fd6",
            "b34e42f10a9c458181f93d2dedfef0c0",
            "e4a5733dc9dc4602adcffe0ad9b32311",
            "13a0098e2a6e49f2aa35a7001007b304",
            "a8e06dab59744043ab1a23e28ad551c3",
            "b54628d884e142628f5b2c2cbda4571c",
            "02087fa03a57448eb34bb526270fd012",
            "03b56142c66f473fa1d8e9e61a5e8d76",
            "e9607b881cbd4075bc5b172e9d55ebd4",
            "9fb0811cac8a4123beae6ad9a8e37bdf",
            "782c60f8a1dd467fb3ee954db3d9d41b"
          ]
        },
        "id": "ZfrVHzVVgpyq",
        "outputId": "9ec0c4ee-d202-4658-c71f-dd5ca8f66d75"
      },
      "source": [
        "im=interact(gzipVsentropy)\n",
        "im.widget.close()\n",
        "im.widget.children[0].max=1.0\n",
        "im.widget.children[0].min=0.0\n",
        "im.widget.children[0].step=0.01\n",
        "im.widget.children[0].description='Probabilite de generer un 1 :'\n",
        "im.widget.children[0].style={'description_width': '50%'}\n",
        "im.widget.children[0].layout=widgets.Layout(width='50%')\n",
        "\n",
        "im.widget.children[1].min=64\n",
        "im.widget.children[1].max=int(1024*16)\n",
        "im.widget.children[1].step=8\n",
        "im.widget.children[1].value=64\n",
        "im.widget.children[1].description='Nombre de bytes a generer:'\n",
        "im.widget.children[1].style={'description_width': '50%'}\n",
        "im.widget.children[1].layout=widgets.Layout(width='50%')\n",
        "\n",
        "vb0=widgets.VBox([im.widget.children[0],im.widget.children[1],screen_entropy,im.widget.children[2]])\n",
        "\n",
        "\"\"\"\n",
        "im.widget.children[0].step=0.01\n",
        "im.widget.children[1].max=4096\n",
        "im.widget.children[1].min=32\n",
        "display(im)\n",
        "\"\"\"\n",
        "display(vb0)"
      ],
      "execution_count": 21,
      "outputs": [
        {
          "output_type": "display_data",
          "data": {
            "application/vnd.jupyter.widget-view+json": {
              "model_id": "48ae6691b72f49b2900558af609428b7",
              "version_minor": 0,
              "version_major": 2
            },
            "text/plain": [
              "interactive(children=(FloatSlider(value=0.5, description='p', max=1.5, min=-0.5), IntSlider(value=1024, descri…"
            ]
          },
          "metadata": {
            "tags": []
          }
        },
        {
          "output_type": "display_data",
          "data": {
            "application/vnd.jupyter.widget-view+json": {
              "model_id": "02087fa03a57448eb34bb526270fd012",
              "version_minor": 0,
              "version_major": 2
            },
            "text/plain": [
              "VBox(children=(FloatSlider(value=0.5, description='Probabilite de generer un 1 :', layout=Layout(width='50%'),…"
            ]
          },
          "metadata": {
            "tags": []
          }
        }
      ]
    },
    {
      "cell_type": "code",
      "metadata": {
        "id": "FFO4rK1CPPSX"
      },
      "source": [
        ""
      ],
      "execution_count": null,
      "outputs": []
    }
  ]
}