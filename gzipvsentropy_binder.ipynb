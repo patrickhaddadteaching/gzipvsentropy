{
  "nbformat": 4,
  "nbformat_minor": 0,
  "metadata": {
    "colab": {
      "name": "gzipvsentropy_binder.ipynb",
      "provenance": [],
      "collapsed_sections": [],
      "authorship_tag": "ABX9TyPet2baFj7pG2MSgezDrZ5d"
    },
    "kernelspec": {
      "name": "python3",
      "display_name": "Python 3"
    },
    "language_info": {
      "name": "python"
    },
    "widgets": {
      "application/vnd.jupyter.widget-state+json": {
        "946439df3109434cb9949850605bcd7c": {
          "model_module": "@jupyter-widgets/controls",
          "model_name": "VBoxModel",
          "state": {
            "_view_name": "VBoxView",
            "_dom_classes": [
              "widget-interact"
            ],
            "_model_name": "VBoxModel",
            "_view_module": "@jupyter-widgets/controls",
            "_model_module_version": "1.5.0",
            "_view_count": null,
            "_view_module_version": "1.5.0",
            "box_style": "",
            "layout": "IPY_MODEL_7a6ae3bc96f145a6b4ae6e07039de162",
            "_model_module": "@jupyter-widgets/controls",
            "children": [
              "IPY_MODEL_4104e56999f44ff4a2b59c5fea9221cc",
              "IPY_MODEL_6c4098e9ab5f43ac8b7af260283f3d6f",
              "IPY_MODEL_247932520f234fdaa6f291a21c41bab6"
            ]
          }
        },
        "7a6ae3bc96f145a6b4ae6e07039de162": {
          "model_module": "@jupyter-widgets/base",
          "model_name": "LayoutModel",
          "state": {
            "_view_name": "LayoutView",
            "grid_template_rows": null,
            "right": null,
            "justify_content": null,
            "_view_module": "@jupyter-widgets/base",
            "overflow": null,
            "_model_module_version": "1.2.0",
            "_view_count": null,
            "flex_flow": null,
            "width": null,
            "min_width": null,
            "border": null,
            "align_items": null,
            "bottom": null,
            "_model_module": "@jupyter-widgets/base",
            "top": null,
            "grid_column": null,
            "overflow_y": null,
            "overflow_x": null,
            "grid_auto_flow": null,
            "grid_area": null,
            "grid_template_columns": null,
            "flex": null,
            "_model_name": "LayoutModel",
            "justify_items": null,
            "grid_row": null,
            "max_height": null,
            "align_content": null,
            "visibility": null,
            "align_self": null,
            "height": null,
            "min_height": null,
            "padding": null,
            "grid_auto_rows": null,
            "grid_gap": null,
            "max_width": null,
            "order": null,
            "_view_module_version": "1.2.0",
            "grid_template_areas": null,
            "object_position": null,
            "object_fit": null,
            "grid_auto_columns": null,
            "margin": null,
            "display": null,
            "left": null
          }
        },
        "4104e56999f44ff4a2b59c5fea9221cc": {
          "model_module": "@jupyter-widgets/controls",
          "model_name": "FloatSliderModel",
          "state": {
            "_view_name": "FloatSliderView",
            "style": "IPY_MODEL_5fdaeb95f47f4f11b0eace6977e939b0",
            "_dom_classes": [],
            "description": "Probabilite de generer un 1 :",
            "step": 0.01,
            "_model_name": "FloatSliderModel",
            "orientation": "horizontal",
            "max": 1,
            "_view_module": "@jupyter-widgets/controls",
            "_model_module_version": "1.5.0",
            "value": 0.5,
            "_view_count": null,
            "disabled": false,
            "_view_module_version": "1.5.0",
            "min": 0,
            "continuous_update": true,
            "readout_format": ".2f",
            "description_tooltip": null,
            "readout": true,
            "_model_module": "@jupyter-widgets/controls",
            "layout": "IPY_MODEL_0a53139a87ee44bdba8c97759a2010f0"
          }
        },
        "6c4098e9ab5f43ac8b7af260283f3d6f": {
          "model_module": "@jupyter-widgets/controls",
          "model_name": "IntSliderModel",
          "state": {
            "_view_name": "IntSliderView",
            "style": "IPY_MODEL_787b872cd53b446d9a59ddaba9e844bf",
            "_dom_classes": [],
            "description": "Nombre de bytes a generer:",
            "step": 8,
            "_model_name": "IntSliderModel",
            "orientation": "horizontal",
            "max": 16384,
            "_view_module": "@jupyter-widgets/controls",
            "_model_module_version": "1.5.0",
            "value": 64,
            "_view_count": null,
            "disabled": false,
            "_view_module_version": "1.5.0",
            "min": 64,
            "continuous_update": true,
            "readout_format": "d",
            "description_tooltip": null,
            "readout": true,
            "_model_module": "@jupyter-widgets/controls",
            "layout": "IPY_MODEL_48de22ec26094663bb7bf74692f0f50f"
          }
        },
        "247932520f234fdaa6f291a21c41bab6": {
          "model_module": "@jupyter-widgets/output",
          "model_name": "OutputModel",
          "state": {
            "_view_name": "OutputView",
            "msg_id": "",
            "_dom_classes": [],
            "_model_name": "OutputModel",
            "outputs": [
              {
                "output_type": "stream",
                "metadata": {
                  "tags": []
                },
                "text": "\nFICHIER NON COMPRESSE : 64 BYTES\n000:a60f067b3eebec30823679fc18b13903f66855f56f3677a485ae8146cc10e7b270650c602b61bdb840811ae50a8d30255bdf3dade9b56db98037ac193ed44e13\n\nFICHIER COMPRESSE : 87 BYTES\n000:1f8b08002cd88b6002ff014000bfffa60f067b3eebec30823679fc18b13903f66855f56f3677a485ae8146cc10e7b270650c602b61bdb840811ae50a8d30255bdf3dade9b56db98037ac193ed44e139e80416a40000000\n",
                "stream": "stdout"
              }
            ],
            "_view_module": "@jupyter-widgets/output",
            "_model_module_version": "1.0.0",
            "_view_count": null,
            "_view_module_version": "1.0.0",
            "layout": "IPY_MODEL_bea6ca199f0d4baab8a35d9aff9924eb",
            "_model_module": "@jupyter-widgets/output"
          }
        },
        "5fdaeb95f47f4f11b0eace6977e939b0": {
          "model_module": "@jupyter-widgets/controls",
          "model_name": "SliderStyleModel",
          "state": {
            "_view_name": "StyleView",
            "handle_color": null,
            "_model_name": "SliderStyleModel",
            "description_width": "50%",
            "_view_module": "@jupyter-widgets/base",
            "_model_module_version": "1.5.0",
            "_view_count": null,
            "_view_module_version": "1.2.0",
            "_model_module": "@jupyter-widgets/controls"
          }
        },
        "0a53139a87ee44bdba8c97759a2010f0": {
          "model_module": "@jupyter-widgets/base",
          "model_name": "LayoutModel",
          "state": {
            "_view_name": "LayoutView",
            "grid_template_rows": null,
            "right": null,
            "justify_content": null,
            "_view_module": "@jupyter-widgets/base",
            "overflow": null,
            "_model_module_version": "1.2.0",
            "_view_count": null,
            "flex_flow": null,
            "width": "100%",
            "min_width": null,
            "border": null,
            "align_items": null,
            "bottom": null,
            "_model_module": "@jupyter-widgets/base",
            "top": null,
            "grid_column": null,
            "overflow_y": null,
            "overflow_x": null,
            "grid_auto_flow": null,
            "grid_area": null,
            "grid_template_columns": null,
            "flex": null,
            "_model_name": "LayoutModel",
            "justify_items": null,
            "grid_row": null,
            "max_height": null,
            "align_content": null,
            "visibility": null,
            "align_self": null,
            "height": null,
            "min_height": null,
            "padding": null,
            "grid_auto_rows": null,
            "grid_gap": null,
            "max_width": null,
            "order": null,
            "_view_module_version": "1.2.0",
            "grid_template_areas": null,
            "object_position": null,
            "object_fit": null,
            "grid_auto_columns": null,
            "margin": null,
            "display": null,
            "left": null
          }
        },
        "787b872cd53b446d9a59ddaba9e844bf": {
          "model_module": "@jupyter-widgets/controls",
          "model_name": "SliderStyleModel",
          "state": {
            "_view_name": "StyleView",
            "handle_color": null,
            "_model_name": "SliderStyleModel",
            "description_width": "50%",
            "_view_module": "@jupyter-widgets/base",
            "_model_module_version": "1.5.0",
            "_view_count": null,
            "_view_module_version": "1.2.0",
            "_model_module": "@jupyter-widgets/controls"
          }
        },
        "48de22ec26094663bb7bf74692f0f50f": {
          "model_module": "@jupyter-widgets/base",
          "model_name": "LayoutModel",
          "state": {
            "_view_name": "LayoutView",
            "grid_template_rows": null,
            "right": null,
            "justify_content": null,
            "_view_module": "@jupyter-widgets/base",
            "overflow": null,
            "_model_module_version": "1.2.0",
            "_view_count": null,
            "flex_flow": null,
            "width": "100%",
            "min_width": null,
            "border": null,
            "align_items": null,
            "bottom": null,
            "_model_module": "@jupyter-widgets/base",
            "top": null,
            "grid_column": null,
            "overflow_y": null,
            "overflow_x": null,
            "grid_auto_flow": null,
            "grid_area": null,
            "grid_template_columns": null,
            "flex": null,
            "_model_name": "LayoutModel",
            "justify_items": null,
            "grid_row": null,
            "max_height": null,
            "align_content": null,
            "visibility": null,
            "align_self": null,
            "height": null,
            "min_height": null,
            "padding": null,
            "grid_auto_rows": null,
            "grid_gap": null,
            "max_width": null,
            "order": null,
            "_view_module_version": "1.2.0",
            "grid_template_areas": null,
            "object_position": null,
            "object_fit": null,
            "grid_auto_columns": null,
            "margin": null,
            "display": null,
            "left": null
          }
        },
        "bea6ca199f0d4baab8a35d9aff9924eb": {
          "model_module": "@jupyter-widgets/base",
          "model_name": "LayoutModel",
          "state": {
            "_view_name": "LayoutView",
            "grid_template_rows": null,
            "right": null,
            "justify_content": null,
            "_view_module": "@jupyter-widgets/base",
            "overflow": null,
            "_model_module_version": "1.2.0",
            "_view_count": null,
            "flex_flow": null,
            "width": null,
            "min_width": null,
            "border": null,
            "align_items": null,
            "bottom": null,
            "_model_module": "@jupyter-widgets/base",
            "top": null,
            "grid_column": null,
            "overflow_y": null,
            "overflow_x": null,
            "grid_auto_flow": null,
            "grid_area": null,
            "grid_template_columns": null,
            "flex": null,
            "_model_name": "LayoutModel",
            "justify_items": null,
            "grid_row": null,
            "max_height": null,
            "align_content": null,
            "visibility": null,
            "align_self": null,
            "height": null,
            "min_height": null,
            "padding": null,
            "grid_auto_rows": null,
            "grid_gap": null,
            "max_width": null,
            "order": null,
            "_view_module_version": "1.2.0",
            "grid_template_areas": null,
            "object_position": null,
            "object_fit": null,
            "grid_auto_columns": null,
            "margin": null,
            "display": null,
            "left": null
          }
        },
        "617003915f68444091f4fcf3869397a1": {
          "model_module": "@jupyter-widgets/controls",
          "model_name": "VBoxModel",
          "state": {
            "_view_name": "VBoxView",
            "_dom_classes": [],
            "_model_name": "VBoxModel",
            "_view_module": "@jupyter-widgets/controls",
            "_model_module_version": "1.5.0",
            "_view_count": null,
            "_view_module_version": "1.5.0",
            "box_style": "",
            "layout": "IPY_MODEL_e0224267b7ac4b8497c7113a2a1b53cc",
            "_model_module": "@jupyter-widgets/controls",
            "children": [
              "IPY_MODEL_4104e56999f44ff4a2b59c5fea9221cc",
              "IPY_MODEL_6c4098e9ab5f43ac8b7af260283f3d6f",
              "IPY_MODEL_e9607b881cbd4075bc5b172e9d55ebd4",
              "IPY_MODEL_247932520f234fdaa6f291a21c41bab6"
            ]
          }
        },
        "e0224267b7ac4b8497c7113a2a1b53cc": {
          "model_module": "@jupyter-widgets/base",
          "model_name": "LayoutModel",
          "state": {
            "_view_name": "LayoutView",
            "grid_template_rows": null,
            "right": null,
            "justify_content": null,
            "_view_module": "@jupyter-widgets/base",
            "overflow": null,
            "_model_module_version": "1.2.0",
            "_view_count": null,
            "flex_flow": null,
            "width": null,
            "min_width": null,
            "border": null,
            "align_items": null,
            "bottom": null,
            "_model_module": "@jupyter-widgets/base",
            "top": null,
            "grid_column": null,
            "overflow_y": null,
            "overflow_x": null,
            "grid_auto_flow": null,
            "grid_area": null,
            "grid_template_columns": null,
            "flex": null,
            "_model_name": "LayoutModel",
            "justify_items": null,
            "grid_row": null,
            "max_height": null,
            "align_content": null,
            "visibility": null,
            "align_self": null,
            "height": null,
            "min_height": null,
            "padding": null,
            "grid_auto_rows": null,
            "grid_gap": null,
            "max_width": null,
            "order": null,
            "_view_module_version": "1.2.0",
            "grid_template_areas": null,
            "object_position": null,
            "object_fit": null,
            "grid_auto_columns": null,
            "margin": null,
            "display": null,
            "left": null
          }
        },
        "e9607b881cbd4075bc5b172e9d55ebd4": {
          "model_module": "@jupyter-widgets/controls",
          "model_name": "TextModel",
          "state": {
            "_view_name": "TextView",
            "style": "IPY_MODEL_9fb0811cac8a4123beae6ad9a8e37bdf",
            "_dom_classes": [],
            "description": "",
            "_model_name": "TextModel",
            "placeholder": "​",
            "_view_module": "@jupyter-widgets/controls",
            "_model_module_version": "1.5.0",
            "value": "p=0.50 correspond a une entropie de 1.00",
            "_view_count": null,
            "disabled": true,
            "_view_module_version": "1.5.0",
            "continuous_update": true,
            "description_tooltip": null,
            "_model_module": "@jupyter-widgets/controls",
            "layout": "IPY_MODEL_782c60f8a1dd467fb3ee954db3d9d41b"
          }
        },
        "9fb0811cac8a4123beae6ad9a8e37bdf": {
          "model_module": "@jupyter-widgets/controls",
          "model_name": "DescriptionStyleModel",
          "state": {
            "_view_name": "StyleView",
            "_model_name": "DescriptionStyleModel",
            "description_width": "",
            "_view_module": "@jupyter-widgets/base",
            "_model_module_version": "1.5.0",
            "_view_count": null,
            "_view_module_version": "1.2.0",
            "_model_module": "@jupyter-widgets/controls"
          }
        },
        "782c60f8a1dd467fb3ee954db3d9d41b": {
          "model_module": "@jupyter-widgets/base",
          "model_name": "LayoutModel",
          "state": {
            "_view_name": "LayoutView",
            "grid_template_rows": null,
            "right": null,
            "justify_content": null,
            "_view_module": "@jupyter-widgets/base",
            "overflow": null,
            "_model_module_version": "1.2.0",
            "_view_count": null,
            "flex_flow": null,
            "width": "300px",
            "min_width": null,
            "border": null,
            "align_items": null,
            "bottom": null,
            "_model_module": "@jupyter-widgets/base",
            "top": null,
            "grid_column": null,
            "overflow_y": null,
            "overflow_x": null,
            "grid_auto_flow": null,
            "grid_area": null,
            "grid_template_columns": null,
            "flex": null,
            "_model_name": "LayoutModel",
            "justify_items": null,
            "grid_row": null,
            "max_height": null,
            "align_content": null,
            "visibility": null,
            "align_self": null,
            "height": null,
            "min_height": null,
            "padding": null,
            "grid_auto_rows": null,
            "grid_gap": null,
            "max_width": null,
            "order": null,
            "_view_module_version": "1.2.0",
            "grid_template_areas": null,
            "object_position": null,
            "object_fit": null,
            "grid_auto_columns": null,
            "margin": null,
            "display": null,
            "left": null
          }
        }
      }
    }
  },
  "cells": [
    {
      "cell_type": "code",
      "metadata": {
        "id": "T0swrOzJgeWZ"
      },
      "source": [
        "import numpy as np\n",
        "from IPython.display import display\n",
        "from ipywidgets import interact, interact_manual, widgets,fixed\n",
        "import gzip"
      ],
      "execution_count": 1,
      "outputs": []
    },
    {
      "cell_type": "code",
      "metadata": {
        "id": "y6uMYEApgkrr"
      },
      "source": [
        "screen_entropy=widgets.Text(value=\"\",description='', disabled=True,layout=widgets.Layout(width='300px'),font_size=12)\n",
        "def generate_biased_rnd_vector_byte(p_in,n_in):\n",
        "    v_byte_to_ret=np.zeros((n_in,),dtype=np.uint8)\n",
        "    v_raw_rnd_bin=np.array(np.random.rand(8*n_in)<p_in,dtype=np.uint8)\n",
        "    for i in range(8):\n",
        "        v_byte_to_ret+=(v_raw_rnd_bin[i::8]<<i)\n",
        "    return v_byte_to_ret\n",
        "def comp_gzip(v_in):\n",
        "    v_out = np.frombuffer(gzip.compress(v_in),dtype=np.uint8)\n",
        "    return v_out\n",
        "def afficher(v_in,nb_bytes_per_lines=128):\n",
        "    v_in_len=v_in.shape[0]\n",
        "    nb_lines=int(v_in_len/nb_bytes_per_lines)+1\n",
        "   \n",
        "    for j in range(nb_lines):\n",
        "        s_line='%.3d:'%(j)\n",
        "        for i in range(nb_bytes_per_lines):\n",
        "            k=j*nb_bytes_per_lines+i\n",
        "            if k<v_in_len:\n",
        "                s_line='%s%.2x'%(s_line,v_in[k])\n",
        "        print(s_line)\n",
        "\n",
        "def gzipVsentropy(p=0.5,nb_bytes=1024):\n",
        "   \n",
        "    if p*(1-p)==0:\n",
        "        entropy=0\n",
        "    else:\n",
        "        entropy=(np.log2(p)*(p)+np.log2(1-p)*(1-p))/-1\n",
        "    screen_entropy.value='p=%.2f correspond a une entropie de %.2f'%(p,entropy)\n",
        "   \n",
        "    v_in=generate_biased_rnd_vector_byte(p,nb_bytes)\n",
        "    v_comp=comp_gzip(v_in)\n",
        "    print('\\nFICHIER NON COMPRESSE : %d BYTES'%(v_in.shape[0]))\n",
        "    afficher(v_in,104)\n",
        "    print('\\nFICHIER COMPRESSE : %d BYTES'%(v_comp.shape[0]))\n",
        "    afficher(v_comp,104)"
      ],
      "execution_count": 7,
      "outputs": []
    },
    {
      "cell_type": "code",
      "metadata": {
        "colab": {
          "base_uri": "https://localhost:8080/",
          "height": 232,
          "referenced_widgets": [
            "946439df3109434cb9949850605bcd7c",
            "7a6ae3bc96f145a6b4ae6e07039de162",
            "4104e56999f44ff4a2b59c5fea9221cc",
            "6c4098e9ab5f43ac8b7af260283f3d6f",
            "247932520f234fdaa6f291a21c41bab6",
            "5fdaeb95f47f4f11b0eace6977e939b0",
            "0a53139a87ee44bdba8c97759a2010f0",
            "787b872cd53b446d9a59ddaba9e844bf",
            "48de22ec26094663bb7bf74692f0f50f",
            "bea6ca199f0d4baab8a35d9aff9924eb",
            "617003915f68444091f4fcf3869397a1",
            "e0224267b7ac4b8497c7113a2a1b53cc",
            "e9607b881cbd4075bc5b172e9d55ebd4",
            "9fb0811cac8a4123beae6ad9a8e37bdf",
            "782c60f8a1dd467fb3ee954db3d9d41b"
          ]
        },
        "id": "ZfrVHzVVgpyq",
        "outputId": "a328bf07-844b-4707-c70e-64bbbb1e74e5"
      },
      "source": [
        "im=interact(gzipVsentropy)\n",
        "im.widget.close()\n",
        "im.widget.children[0].max=1.0\n",
        "im.widget.children[0].min=0.0\n",
        "im.widget.children[0].step=0.01\n",
        "im.widget.children[0].description='Probabilite de generer un 1 :'\n",
        "im.widget.children[0].style={'description_width': '50%'}\n",
        "im.widget.children[0].layout=widgets.Layout(width='100%')\n",
        "\n",
        "im.widget.children[1].min=64\n",
        "im.widget.children[1].max=int(1024*16)\n",
        "im.widget.children[1].step=8\n",
        "im.widget.children[1].value=64\n",
        "im.widget.children[1].description='Nombre de bytes a generer:'\n",
        "im.widget.children[1].style={'description_width': '50%'}\n",
        "im.widget.children[1].layout=widgets.Layout(width='100%')\n",
        "\n",
        "vb0=widgets.VBox([im.widget.children[0],im.widget.children[1],screen_entropy,im.widget.children[2]])\n",
        "\n",
        "\"\"\"\n",
        "im.widget.children[0].step=0.01\n",
        "im.widget.children[1].max=4096\n",
        "im.widget.children[1].min=32\n",
        "display(im)\n",
        "\"\"\"\n",
        "display(vb0)"
      ],
      "execution_count": 23,
      "outputs": [
        {
          "output_type": "display_data",
          "data": {
            "application/vnd.jupyter.widget-view+json": {
              "model_id": "946439df3109434cb9949850605bcd7c",
              "version_minor": 0,
              "version_major": 2
            },
            "text/plain": [
              "interactive(children=(FloatSlider(value=0.5, description='p', max=1.5, min=-0.5), IntSlider(value=1024, descri…"
            ]
          },
          "metadata": {
            "tags": []
          }
        },
        {
          "output_type": "display_data",
          "data": {
            "application/vnd.jupyter.widget-view+json": {
              "model_id": "617003915f68444091f4fcf3869397a1",
              "version_minor": 0,
              "version_major": 2
            },
            "text/plain": [
              "VBox(children=(FloatSlider(value=0.5, description='Probabilite de generer un 1 :', layout=Layout(width='100%')…"
            ]
          },
          "metadata": {
            "tags": []
          }
        }
      ]
    },
    {
      "cell_type": "code",
      "metadata": {
        "id": "FFO4rK1CPPSX"
      },
      "source": [
        ""
      ],
      "execution_count": null,
      "outputs": []
    }
  ]
}